{
  "nbformat": 4,
  "nbformat_minor": 0,
  "metadata": {
    "colab": {
      "provenance": []
    },
    "kernelspec": {
      "name": "python3",
      "display_name": "Python 3"
    },
    "language_info": {
      "name": "python"
    }
  },
  "cells": [
    {
      "cell_type": "markdown",
      "source": [
        "### Manipulating Strings"
      ],
      "metadata": {
        "id": "qG3nIwsfYESc"
      }
    },
    {
      "cell_type": "code",
      "source": [
        "# String Initialization\n",
        "\n",
        "first_name = \"carlos\"\n",
        "last_name = \"Theran\"\n",
        "\n",
        "print(\"Your fist name is {0:s} and your last name is {1:s}\".format(first_name, last_name))"
      ],
      "metadata": {
        "colab": {
          "base_uri": "https://localhost:8080/"
        },
        "id": "hd7df0KuYh-S",
        "outputId": "93292e9b-0fe5-4d3a-9053-7d599633b115"
      },
      "execution_count": 6,
      "outputs": [
        {
          "output_type": "stream",
          "name": "stdout",
          "text": [
            "Your fist name is carlos and your last name is Theran\n"
          ]
        }
      ]
    },
    {
      "cell_type": "code",
      "source": [
        "# Basic Operation\n",
        "# print the length of your string\n",
        "\n",
        "print(\"The length of your first name is {}, the detatype of your len fucntio is {}\".format(len(first_name),type(len(first_name))))\n",
        "\n",
        "# Concatenation\n",
        "\n",
        "full_name = first_name + \" \"+ last_name\n",
        "\n",
        "print(\"You name is: {}\".format(full_name))"
      ],
      "metadata": {
        "colab": {
          "base_uri": "https://localhost:8080/"
        },
        "id": "_MxOxk5narud",
        "outputId": "5911dd79-dcd3-4125-b2aa-2cd325749f40"
      },
      "execution_count": 11,
      "outputs": [
        {
          "output_type": "stream",
          "name": "stdout",
          "text": [
            "The length of your first name is 6, the detatype of your len fucntio is <class 'int'>\n",
            "You name is: carlos Theran\n"
          ]
        }
      ]
    },
    {
      "cell_type": "code",
      "source": [
        "# Duplicating a string by a factor of k.\n",
        "\n",
        "k = 4\n",
        "\n",
        "print(first_name * 4)"
      ],
      "metadata": {
        "colab": {
          "base_uri": "https://localhost:8080/"
        },
        "id": "R44r_Iv2coQ7",
        "outputId": "3a9e2c0e-8dd9-4a52-da78-d7c39714cfb0"
      },
      "execution_count": 12,
      "outputs": [
        {
          "output_type": "stream",
          "name": "stdout",
          "text": [
            "carloscarloscarloscarlos\n"
          ]
        }
      ]
    },
    {
      "cell_type": "code",
      "source": [
        "# string datatype are iterables\n",
        "for letter in first_name:\n",
        "   print(letter, end=\" \")"
      ],
      "metadata": {
        "colab": {
          "base_uri": "https://localhost:8080/"
        },
        "id": "gdNJeyDDeLkD",
        "outputId": "fd8b6df8-b623-4fc7-be08-d70a3e6b581f"
      },
      "execution_count": 14,
      "outputs": [
        {
          "output_type": "stream",
          "name": "stdout",
          "text": [
            "c a r l o s "
          ]
        }
      ]
    },
    {
      "cell_type": "code",
      "source": [
        "# Usinf replace function \n",
        "full_name = full_name.replace(\"Theran\",\"Suarez\")\n",
        "print(full_name)\n",
        "\n",
        "\n",
        "full_name = full_name.upper()\n",
        "print(full_name)"
      ],
      "metadata": {
        "colab": {
          "base_uri": "https://localhost:8080/"
        },
        "id": "EWRAM_zae12r",
        "outputId": "f69102f6-0b0d-4f72-f260-c4a1e8000947"
      },
      "execution_count": 17,
      "outputs": [
        {
          "output_type": "stream",
          "name": "stdout",
          "text": [
            "Carlos suarez\n",
            "CARLOS SUAREZ\n"
          ]
        }
      ]
    }
  ]
}